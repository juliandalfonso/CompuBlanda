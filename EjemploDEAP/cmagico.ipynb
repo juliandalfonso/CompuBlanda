{
 "cells": [
  {
   "cell_type": "markdown",
   "metadata": {},
   "source": [
    "# Cuadro Magico"
   ]
  },
  {
   "cell_type": "code",
   "execution_count": 1,
   "metadata": {},
   "outputs": [],
   "source": [
    "import deap.algorithms as algorithms\n",
    "import deap.base as base\n",
    "import deap.creator as creator\n",
    "import deap.tools as tools\n",
    "\n",
    "import numpy as np \n",
    "import random"
   ]
  },
  {
   "cell_type": "code",
   "execution_count": 2,
   "metadata": {},
   "outputs": [],
   "source": [
    "N = 4; N2 = N**2; k = N*(N2+1)/2"
   ]
  },
  {
   "cell_type": "code",
   "execution_count": 3,
   "metadata": {},
   "outputs": [],
   "source": [
    "creator.create('FitnessMin', base.Fitness, weights=(-1.0,))\n",
    "creator.create('Individual', list, fitness=creator.FitnessMin)"
   ]
  },
  {
   "cell_type": "code",
   "execution_count": 9,
   "metadata": {},
   "outputs": [],
   "source": [
    "toolbox = base.Toolbox()\n",
    "\n",
    "# Generador Atributos\n",
    "toolbox.register('indices', random.sample, range(1,N2+1), N2)\n",
    "\n",
    "# Inicializar Estructuras\n",
    "toolbox.register('individual', tools.initIterate, creator.Individual, toolbox.indices)\n",
    "toolbox.register('population', tools.initRepeat, list, toolbox.individual)"
   ]
  },
  {
   "cell_type": "code",
   "execution_count": 10,
   "metadata": {},
   "outputs": [
    {
     "data": {
      "text/plain": [
       "[[12, 8, 13, 6, 10, 16, 15, 7, 2, 4, 1, 3, 14, 9, 11, 5],\n",
       " [16, 9, 10, 1, 13, 7, 4, 11, 2, 14, 15, 3, 5, 12, 6, 8],\n",
       " [16, 10, 5, 13, 11, 4, 12, 1, 7, 2, 3, 6, 9, 8, 15, 14],\n",
       " [10, 5, 7, 13, 11, 2, 9, 16, 1, 14, 6, 4, 8, 15, 3, 12],\n",
       " [1, 2, 13, 5, 9, 7, 8, 12, 10, 11, 4, 15, 16, 14, 3, 6],\n",
       " [7, 3, 6, 10, 4, 5, 16, 13, 2, 12, 15, 9, 1, 11, 14, 8],\n",
       " [15, 2, 16, 5, 14, 7, 8, 6, 4, 13, 11, 12, 3, 1, 9, 10],\n",
       " [8, 7, 14, 9, 5, 4, 12, 10, 11, 15, 1, 13, 16, 6, 3, 2],\n",
       " [3, 2, 4, 10, 9, 11, 1, 6, 15, 7, 13, 12, 14, 8, 16, 5],\n",
       " [1, 4, 6, 2, 8, 13, 16, 12, 11, 15, 7, 9, 3, 14, 10, 5]]"
      ]
     },
     "execution_count": 10,
     "metadata": {},
     "output_type": "execute_result"
    }
   ],
   "source": [
    "toolbox.population(n=10)"
   ]
  },
  {
   "cell_type": "code",
   "execution_count": null,
   "metadata": {},
   "outputs": [],
   "source": []
  }
 ],
 "metadata": {
  "kernelspec": {
   "display_name": "softcomp",
   "language": "python",
   "name": "softcomp"
  },
  "language_info": {
   "codemirror_mode": {
    "name": "ipython",
    "version": 3
   },
   "file_extension": ".py",
   "mimetype": "text/x-python",
   "name": "python",
   "nbconvert_exporter": "python",
   "pygments_lexer": "ipython3",
   "version": "3.8.5"
  }
 },
 "nbformat": 4,
 "nbformat_minor": 4
}
