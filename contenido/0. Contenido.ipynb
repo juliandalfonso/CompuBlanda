{
 "cells": [
  {
   "cell_type": "markdown",
   "metadata": {},
   "source": [
    "# IS845 - Computación Blanda - G101\n",
    "\n",
    "La computación blanda se diferencia de la computación convencional (dura) en que, a diferencia de la computación dura, es tolerante con la imprecisión, la incertidumbre y la verdad parcial. De hecho, el modelo a seguir para la computación blanda es la mente humana. \n",
    "\n",
    "El principio rector de la computación blanda es: Aprovechar la tolerancia a la imprecisión, la incertidumbre y la verdad parcial para lograr manejabilidad, solidez y bajo costo de solución. Las ideas básicas que subyacen a la computación blanda en su encarnación actual tienen vínculos con muchas influencias anteriores, entre ellas es una artículo de 1965 sobre conjuntos difusos; el documento de 1973 sobre el análisis de sistemas complejos y procesos de decisión; y el informe de 1979 (artículo de 1981) sobre teoría de la posibilidad y análisis de datos blandos. La inclusión de la teoría de redes neuronales en la computación blanda se produjo en un momento posterior. En esta coyuntura, los componentes principales de la computación blanda (SC) son la lógica difusa (FL), la teoría de redes neuronales (NN) y el razonamiento probabilístico (PR), y este último incluye redes de creencias, algoritmos genéticos, teoría del caos y partes de la teoría del aprendizaje.\n",
    "\n",
    "Lo que es importante tener en cuenta es que SC no es una mezcla de FL, NN y PR. Más bien, es una asociación en la que cada uno de los socios contribuye a una metodología distinta para abordar los problemas en su dominio. En esta perspectiva, las principales contribuciones de FL, NN y PR son complementarias más que competitivas. (Comentarios de Zadeh)"
   ]
  },
  {
   "cell_type": "markdown",
   "metadata": {},
   "source": [
    "## Objetivo\n",
    "\n",
    "El objetivo principal es avanzar en las metodologías que conforman el área de la computación blanda (Soft Computing), así como investigar posibles hibridaciones de estas con el objetivo de mejorar el rendimiento y la fiabilidad. También es un objetivo importante aplicar las metodologías desarrolladas a problemas reales en áreas como la ingeniería, medicina, e-learning, ...\n",
    "\n",
    "Las principales líneas de investigación son:\n",
    "\n",
    "* Redes neuronales supervisadas y no supervisadas\n",
    "* Sistemas difusos\n",
    "* Algoritmos genéticos y estrategias evolutivas\n",
    "* Máquinas de vectores de soporte\n",
    "* Selección y extracción de características\n",
    "* Reconocimiento de patrones y visión por computador\n",
    "* Visualización de los datos y el conocimiento"
   ]
  },
  {
   "cell_type": "markdown",
   "metadata": {},
   "source": [
    "## Contenido\n",
    "\n",
    "\n",
    "1. Fundamentos\n",
    "    * Introducción y Recuento Histórico\n",
    "    * Herramientas\n",
    "2. Metaheurísticas\n",
    "    * Algoritmos Genéticos\n",
    "    * Programación Genética\n",
    "    * Inteligencia de Enjambres\n",
    "    * Recocido Simulado\n",
    "    * Búsqueda Tabú\n",
    "3. Redes Neuronales\n",
    "    * 1ra Generación\n",
    "        - Perceptron\n",
    "        - Adeline\n",
    "    * 2da Generación\n",
    "        - MPL (Perceptrón Multicapa)\n",
    "        - Madeline\n",
    "        - Red de Hopfield\n",
    "        - Mapas Auto Organizados (Red de Kohone)\n",
    "    * 3ra Generación\n",
    "        - Red Neuronal Recurente (RRN)\n",
    "4. Lógica Difusa\n",
    "    * Conjuntos Difusos (vs. Conjuntos Tradicionales - Crisp)\n",
    "    * Reglas\n",
    "    * Defusificación\n",
    "    * Control"
   ]
  },
  {
   "cell_type": "markdown",
   "metadata": {},
   "source": [
    "## Metodología\n",
    "\n",
    "El curso consiste en el desarrollo de conferencias sobre cada una de las temáticas expuestas en el contenido. Se espera que el estudiante dedique horas adicionales de estudio personalizado."
   ]
  },
  {
   "cell_type": "markdown",
   "metadata": {},
   "source": [
    "## Evaluación\n",
    "\n",
    "* Nota 1 (33%), Cap. 1 y 2\n",
    "* Nota 2 (33%), Cap. 3\n",
    "* Nota 3 (34%), Cap. 4 (semana de finales)\n",
    "\n",
    "Cada nota esta compuesta por:\n",
    "* Examen Escrito (70%)\n",
    "* Talleres (10%). Alrededor de 4 por tema\n",
    "* Trabajo de Investigación (20%)"
   ]
  },
  {
   "cell_type": "markdown",
   "metadata": {},
   "source": [
    "## Referencia\n",
    "\n",
    "Padhy, N. P. Soft Computing: With MATLAB Programming. Oxford University Press, USA; Edición: UK ed. (2015)\n",
    "\n",
    "Michalewicz Z., Fogel D. B. How to Solve It: Modern Heuristics. Springer; Edición: Enlarged 2nd (2004)\n",
    "\n",
    "Michalewicz Z., Genetic Algorithms + Data Structures = Evolution Programs 3rd Edición. Springer; Edición: 3 (2013)"
   ]
  },
  {
   "cell_type": "markdown",
   "metadata": {},
   "source": [
    "## Calendario\n",
    "\n",
    "```\n",
    "|--------|-------------|-----------------------------------------------|\n",
    "| Semana | Fecha       | Tema                                          |\n",
    "|--------|-------------|-----------------------------------------------|\n",
    "| S01    | Feb 10 y 12 | Fundamentación                                |\n",
    "| S02    | Feb 17 y 19 | Meta Heurísticas                              |\n",
    "| S03    | Feb 24 y 26 |                                               |\n",
    "| S04    | Mar 03 y 05 |                                               |\n",
    "| S05    | Mar 10 y 12 |                                               |\n",
    "| S06    | Mar 17 y 19 |                                               |\n",
    "| S07    | Mar 24 y 26 | Nota 1 (Sep 30)                               |\n",
    "| S08    | Mar 31      |                                               |\n",
    "| S09    | Abr 07 y 09 | Redes Neuronales                              |\n",
    "| S10    | Abr 14 y 16 |                                               |\n",
    "| S11    | Abr 21 y 23 |                                               |\n",
    "| S12    | Abr 28 y 30 | Nota 2 (Nov 04)                               |\n",
    "| S13    | May 05 y 07 |                                               |\n",
    "| S14    | May 12 y 14 | Lógica Difusa                                 |\n",
    "| S15    | May 19 y 21 |                                               |\n",
    "| S16    | May 26 y 28 |                                               |\n",
    "|--------|-------------|-----------------------------------------------|\n",
    "```"
   ]
  },
  {
   "cell_type": "code",
   "execution_count": null,
   "metadata": {},
   "outputs": [],
   "source": []
  }
 ],
 "metadata": {
  "kernelspec": {
   "display_name": "Python 3",
   "language": "python",
   "name": "python3"
  },
  "language_info": {
   "codemirror_mode": {
    "name": "ipython",
    "version": 3
   },
   "file_extension": ".py",
   "mimetype": "text/x-python",
   "name": "python",
   "nbconvert_exporter": "python",
   "pygments_lexer": "ipython3",
   "version": "3.8.5"
  }
 },
 "nbformat": 4,
 "nbformat_minor": 4
}
