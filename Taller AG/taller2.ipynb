{
 "cells": [
  {
   "cell_type": "markdown",
   "metadata": {},
   "source": [
    "# Taller"
   ]
  },
  {
   "cell_type": "markdown",
   "metadata": {},
   "source": [
    "Para los dos problemas siguientes, haga:\n",
    "\n",
    "1. Codifique un GA simple para resolver el problema. Para hacer esto, necesita codificar el problema, usar un cruce de un solo punto y un cambio de bits o una mutación de 2 opciones, usar una forma de selección de ruleta o selección de torneo, establecer un tamaño de población y seleccionar un criterio de parada.\n",
    "\n",
    "2. Ejecute su GA.\n",
    "\n",
    "3. Realice los siguientes cambios en su código GA (uno por uno) y compare el resultados.\n",
    "    * Cambiar los puntos de partida iniciales (soluciones iniciales) diez veces\n",
    "    * Cambiar la probabilidad de cruce dos veces\n",
    "    * Cambiar la probabilidad de mutación dos veces\n",
    "    * Cambiar el tamaño de la población dos veces\n",
    "    * Cambie la semilla del número aleatorio diez veces\n",
    "\n",
    "4. Incluya su código con su tarea.\n",
    "\n",
    "5. Indique que el porcentaje de cada miembro del equipo contribuye a este asignación (solo si trabaja con otros).\n",
    "\n",
    "6. No copie el trabajo de otro equipo/individuo. Cualquiera/cualquier equipo que viole este reglamento recibirá una calificación de cero para este taller.\n",
    "\n",
    "7. Incluyo el óptimo global para cada problema como referencia, pero no lo use en su metodología de solución."
   ]
  },
  {
   "cell_type": "markdown",
   "metadata": {},
   "source": [
    "## Problema 1\n",
    "\n",
    "Este es uno de los problemas de prueba [QAP](https://es.wikipedia.org/wiki/Problema_de_la_asignación_cuadrática) (problema de asignación cuadrática) de Nugent et al. Se colocarán 25 departamentos en 25 ubicaciones con cinco en cada fila (ver más abajo). El objetivo es minimizar los costos entre los departamentos colocados. El costo es (flujo * distancia rectilínea), donde tanto el flujo como la distancia son simétricos entre cualquier par de departamentos dado. Descargue los datos de las matrices de flujo y distancia de la web del curso (nombre de archivo: nug25.dat). La solución óptima es 1872 (o 3744 si duplica los flujos).\n",
    "\n",
    "![](./img/taller2.png)"
   ]
  },
  {
   "cell_type": "markdown",
   "metadata": {},
   "source": [
    "## Problema 2\n",
    "\n",
    "Esta es la función de seis jorobas de camello donde tanto $x$ como $y$ se encuentran entre $± 5$. El objetivo es minimizar $z$. El mínimo global se encuentra en (-0.089840, 0.712659) o (0.089840, -0.712659) donde $z = -1.0316285$.\n",
    "\n",
    "$$z = (4 − 2.1 x^2 + \\frac{x^4}{3})x^2 + xy + (−4 + 4y^2)y^2 $$"
   ]
  }
 ],
 "metadata": {
  "kernelspec": {
   "display_name": "Python 3",
   "language": "python",
   "name": "python3"
  },
  "language_info": {
   "codemirror_mode": {
    "name": "ipython",
    "version": 3
   },
   "file_extension": ".py",
   "mimetype": "text/x-python",
   "name": "python",
   "nbconvert_exporter": "python",
   "pygments_lexer": "ipython3",
   "version": "3.8.5"
  }
 },
 "nbformat": 4,
 "nbformat_minor": 4
}
